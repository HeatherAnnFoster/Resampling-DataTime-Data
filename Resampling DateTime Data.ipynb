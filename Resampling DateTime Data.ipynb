{
 "cells": [
  {
   "cell_type": "markdown",
   "id": "fa913eb0",
   "metadata": {},
   "source": [
    "# Part 1: Load the data and create a datetime index"
   ]
  },
  {
   "cell_type": "markdown",
   "id": "bfdf7c1e",
   "metadata": {},
   "source": [
    "# Imports and Libraries"
   ]
  },
  {
   "cell_type": "code",
   "execution_count": 1,
   "id": "2659e1a7",
   "metadata": {},
   "outputs": [],
   "source": [
    "import pandas as pd\n",
    "from datetime import datetime\n",
    "from matplotlib import dates as mdates\n",
    "import matplotlib.pyplot as plt\n",
    "\n",
    "import warnings\n",
    "warnings.filterwarnings('ignore')"
   ]
  },
  {
   "cell_type": "markdown",
   "id": "67bdfa50",
   "metadata": {},
   "source": [
    "# Load the Data"
   ]
  },
  {
   "cell_type": "code",
   "execution_count": 2,
   "id": "b1ed55ba",
   "metadata": {},
   "outputs": [
    {
     "name": "stdout",
     "output_type": "stream",
     "text": [
      "<class 'pandas.core.frame.DataFrame'>\n",
      "RangeIndex: 15341 entries, 0 to 15340\n",
      "Data columns (total 10 columns):\n",
      " #   Column            Non-Null Count  Dtype  \n",
      "---  ------            --------------  -----  \n",
      " 0   date              15341 non-null  int64  \n",
      " 1   cloud_cover       14938 non-null  float64\n",
      " 2   sunshine          14957 non-null  float64\n",
      " 3   global_radiation  14939 non-null  float64\n",
      " 4   max_temp          14951 non-null  float64\n",
      " 5   mean_temp         14922 non-null  float64\n",
      " 6   min_temp          14955 non-null  float64\n",
      " 7   precipitation     14951 non-null  float64\n",
      " 8   pressure          14953 non-null  float64\n",
      " 9   snow_depth        13589 non-null  float64\n",
      "dtypes: float64(9), int64(1)\n",
      "memory usage: 1.2 MB\n"
     ]
    },
    {
     "data": {
      "text/html": [
       "<div>\n",
       "<style scoped>\n",
       "    .dataframe tbody tr th:only-of-type {\n",
       "        vertical-align: middle;\n",
       "    }\n",
       "\n",
       "    .dataframe tbody tr th {\n",
       "        vertical-align: top;\n",
       "    }\n",
       "\n",
       "    .dataframe thead th {\n",
       "        text-align: right;\n",
       "    }\n",
       "</style>\n",
       "<table border=\"1\" class=\"dataframe\">\n",
       "  <thead>\n",
       "    <tr style=\"text-align: right;\">\n",
       "      <th></th>\n",
       "      <th>date</th>\n",
       "      <th>cloud_cover</th>\n",
       "      <th>sunshine</th>\n",
       "      <th>global_radiation</th>\n",
       "      <th>max_temp</th>\n",
       "      <th>mean_temp</th>\n",
       "      <th>min_temp</th>\n",
       "      <th>precipitation</th>\n",
       "      <th>pressure</th>\n",
       "      <th>snow_depth</th>\n",
       "    </tr>\n",
       "  </thead>\n",
       "  <tbody>\n",
       "    <tr>\n",
       "      <th>0</th>\n",
       "      <td>19790101</td>\n",
       "      <td>2.0</td>\n",
       "      <td>7.0</td>\n",
       "      <td>52.0</td>\n",
       "      <td>2.3</td>\n",
       "      <td>-4.1</td>\n",
       "      <td>-7.5</td>\n",
       "      <td>0.4</td>\n",
       "      <td>101900.0</td>\n",
       "      <td>9.0</td>\n",
       "    </tr>\n",
       "    <tr>\n",
       "      <th>1</th>\n",
       "      <td>19790102</td>\n",
       "      <td>6.0</td>\n",
       "      <td>1.7</td>\n",
       "      <td>27.0</td>\n",
       "      <td>1.6</td>\n",
       "      <td>-2.6</td>\n",
       "      <td>-7.5</td>\n",
       "      <td>0.0</td>\n",
       "      <td>102530.0</td>\n",
       "      <td>8.0</td>\n",
       "    </tr>\n",
       "    <tr>\n",
       "      <th>2</th>\n",
       "      <td>19790103</td>\n",
       "      <td>5.0</td>\n",
       "      <td>0.0</td>\n",
       "      <td>13.0</td>\n",
       "      <td>1.3</td>\n",
       "      <td>-2.8</td>\n",
       "      <td>-7.2</td>\n",
       "      <td>0.0</td>\n",
       "      <td>102050.0</td>\n",
       "      <td>4.0</td>\n",
       "    </tr>\n",
       "    <tr>\n",
       "      <th>3</th>\n",
       "      <td>19790104</td>\n",
       "      <td>8.0</td>\n",
       "      <td>0.0</td>\n",
       "      <td>13.0</td>\n",
       "      <td>-0.3</td>\n",
       "      <td>-2.6</td>\n",
       "      <td>-6.5</td>\n",
       "      <td>0.0</td>\n",
       "      <td>100840.0</td>\n",
       "      <td>2.0</td>\n",
       "    </tr>\n",
       "    <tr>\n",
       "      <th>4</th>\n",
       "      <td>19790105</td>\n",
       "      <td>6.0</td>\n",
       "      <td>2.0</td>\n",
       "      <td>29.0</td>\n",
       "      <td>5.6</td>\n",
       "      <td>-0.8</td>\n",
       "      <td>-1.4</td>\n",
       "      <td>0.0</td>\n",
       "      <td>102250.0</td>\n",
       "      <td>1.0</td>\n",
       "    </tr>\n",
       "    <tr>\n",
       "      <th>...</th>\n",
       "      <td>...</td>\n",
       "      <td>...</td>\n",
       "      <td>...</td>\n",
       "      <td>...</td>\n",
       "      <td>...</td>\n",
       "      <td>...</td>\n",
       "      <td>...</td>\n",
       "      <td>...</td>\n",
       "      <td>...</td>\n",
       "      <td>...</td>\n",
       "    </tr>\n",
       "    <tr>\n",
       "      <th>15336</th>\n",
       "      <td>20201227</td>\n",
       "      <td>1.0</td>\n",
       "      <td>0.9</td>\n",
       "      <td>32.0</td>\n",
       "      <td>7.5</td>\n",
       "      <td>7.5</td>\n",
       "      <td>7.6</td>\n",
       "      <td>2.0</td>\n",
       "      <td>98000.0</td>\n",
       "      <td>NaN</td>\n",
       "    </tr>\n",
       "    <tr>\n",
       "      <th>15337</th>\n",
       "      <td>20201228</td>\n",
       "      <td>7.0</td>\n",
       "      <td>3.7</td>\n",
       "      <td>38.0</td>\n",
       "      <td>3.6</td>\n",
       "      <td>1.1</td>\n",
       "      <td>-1.3</td>\n",
       "      <td>0.2</td>\n",
       "      <td>97370.0</td>\n",
       "      <td>NaN</td>\n",
       "    </tr>\n",
       "    <tr>\n",
       "      <th>15338</th>\n",
       "      <td>20201229</td>\n",
       "      <td>7.0</td>\n",
       "      <td>0.0</td>\n",
       "      <td>21.0</td>\n",
       "      <td>4.1</td>\n",
       "      <td>2.6</td>\n",
       "      <td>1.1</td>\n",
       "      <td>0.0</td>\n",
       "      <td>98830.0</td>\n",
       "      <td>NaN</td>\n",
       "    </tr>\n",
       "    <tr>\n",
       "      <th>15339</th>\n",
       "      <td>20201230</td>\n",
       "      <td>6.0</td>\n",
       "      <td>0.4</td>\n",
       "      <td>22.0</td>\n",
       "      <td>5.6</td>\n",
       "      <td>2.7</td>\n",
       "      <td>-0.1</td>\n",
       "      <td>0.0</td>\n",
       "      <td>100200.0</td>\n",
       "      <td>NaN</td>\n",
       "    </tr>\n",
       "    <tr>\n",
       "      <th>15340</th>\n",
       "      <td>20201231</td>\n",
       "      <td>7.0</td>\n",
       "      <td>1.3</td>\n",
       "      <td>34.0</td>\n",
       "      <td>1.5</td>\n",
       "      <td>-0.8</td>\n",
       "      <td>-3.1</td>\n",
       "      <td>0.0</td>\n",
       "      <td>100500.0</td>\n",
       "      <td>NaN</td>\n",
       "    </tr>\n",
       "  </tbody>\n",
       "</table>\n",
       "<p>15341 rows × 10 columns</p>\n",
       "</div>"
      ],
      "text/plain": [
       "           date  cloud_cover  sunshine  global_radiation  max_temp  mean_temp  \\\n",
       "0      19790101          2.0       7.0              52.0       2.3       -4.1   \n",
       "1      19790102          6.0       1.7              27.0       1.6       -2.6   \n",
       "2      19790103          5.0       0.0              13.0       1.3       -2.8   \n",
       "3      19790104          8.0       0.0              13.0      -0.3       -2.6   \n",
       "4      19790105          6.0       2.0              29.0       5.6       -0.8   \n",
       "...         ...          ...       ...               ...       ...        ...   \n",
       "15336  20201227          1.0       0.9              32.0       7.5        7.5   \n",
       "15337  20201228          7.0       3.7              38.0       3.6        1.1   \n",
       "15338  20201229          7.0       0.0              21.0       4.1        2.6   \n",
       "15339  20201230          6.0       0.4              22.0       5.6        2.7   \n",
       "15340  20201231          7.0       1.3              34.0       1.5       -0.8   \n",
       "\n",
       "       min_temp  precipitation  pressure  snow_depth  \n",
       "0          -7.5            0.4  101900.0         9.0  \n",
       "1          -7.5            0.0  102530.0         8.0  \n",
       "2          -7.2            0.0  102050.0         4.0  \n",
       "3          -6.5            0.0  100840.0         2.0  \n",
       "4          -1.4            0.0  102250.0         1.0  \n",
       "...         ...            ...       ...         ...  \n",
       "15336       7.6            2.0   98000.0         NaN  \n",
       "15337      -1.3            0.2   97370.0         NaN  \n",
       "15338       1.1            0.0   98830.0         NaN  \n",
       "15339      -0.1            0.0  100200.0         NaN  \n",
       "15340      -3.1            0.0  100500.0         NaN  \n",
       "\n",
       "[15341 rows x 10 columns]"
      ]
     },
     "execution_count": 2,
     "metadata": {},
     "output_type": "execute_result"
    }
   ],
   "source": [
    "url = \"C:/Users/16024/Desktop/Resample.csv\"\n",
    "df = pd.read_csv(url)\n",
    "df.info()\n",
    "df"
   ]
  },
  {
   "cell_type": "markdown",
   "id": "3d283dc4",
   "metadata": {},
   "source": [
    "# Data Cleaning"
   ]
  },
  {
   "cell_type": "markdown",
   "id": "7a5db87f",
   "metadata": {},
   "source": [
    "##  Convert the date column to datetime dtype."
   ]
  },
  {
   "cell_type": "code",
   "execution_count": 3,
   "id": "80e01db3",
   "metadata": {
    "scrolled": true
   },
   "outputs": [
    {
     "name": "stdout",
     "output_type": "stream",
     "text": [
      "datetime64[ns]\n"
     ]
    }
   ],
   "source": [
    "df['format_data'] = pd.to_datetime(df['date'])\n",
    "print(df['format_data'].dtype)"
   ]
  },
  {
   "cell_type": "code",
   "execution_count": 4,
   "id": "adeeb035",
   "metadata": {
    "scrolled": true
   },
   "outputs": [
    {
     "name": "stdout",
     "output_type": "stream",
     "text": [
      "<class 'pandas.core.frame.DataFrame'>\n",
      "RangeIndex: 15341 entries, 0 to 15340\n",
      "Data columns (total 11 columns):\n",
      " #   Column            Non-Null Count  Dtype         \n",
      "---  ------            --------------  -----         \n",
      " 0   date              15341 non-null  int64         \n",
      " 1   cloud_cover       14938 non-null  float64       \n",
      " 2   sunshine          14957 non-null  float64       \n",
      " 3   global_radiation  14939 non-null  float64       \n",
      " 4   max_temp          14951 non-null  float64       \n",
      " 5   mean_temp         14922 non-null  float64       \n",
      " 6   min_temp          14955 non-null  float64       \n",
      " 7   precipitation     14951 non-null  float64       \n",
      " 8   pressure          14953 non-null  float64       \n",
      " 9   snow_depth        13589 non-null  float64       \n",
      " 10  format_data       15341 non-null  datetime64[ns]\n",
      "dtypes: datetime64[ns](1), float64(9), int64(1)\n",
      "memory usage: 1.3 MB\n"
     ]
    }
   ],
   "source": [
    "df.info()"
   ]
  },
  {
   "cell_type": "code",
   "execution_count": 5,
   "id": "4d10dfcd",
   "metadata": {},
   "outputs": [
    {
     "data": {
      "text/plain": [
       "0   1970-01-01 00:00:00.019790101\n",
       "1   1970-01-01 00:00:00.019790102\n",
       "2   1970-01-01 00:00:00.019790103\n",
       "3   1970-01-01 00:00:00.019790104\n",
       "4   1970-01-01 00:00:00.019790105\n",
       "5   1970-01-01 00:00:00.019790106\n",
       "6   1970-01-01 00:00:00.019790107\n",
       "7   1970-01-01 00:00:00.019790108\n",
       "8   1970-01-01 00:00:00.019790109\n",
       "9   1970-01-01 00:00:00.019790110\n",
       "Name: format_data, dtype: datetime64[ns]"
      ]
     },
     "execution_count": 5,
     "metadata": {},
     "output_type": "execute_result"
    }
   ],
   "source": [
    "df['format_data'].head(10)"
   ]
  },
  {
   "cell_type": "code",
   "execution_count": 6,
   "id": "7c523bc1",
   "metadata": {},
   "outputs": [
    {
     "data": {
      "text/plain": [
       "Timestamp('1970-01-01 00:00:00.019790101')"
      ]
     },
     "execution_count": 6,
     "metadata": {},
     "output_type": "execute_result"
    }
   ],
   "source": [
    "## Previewing first row from the datetime column\n",
    "df.loc[0,'format_data']"
   ]
  },
  {
   "cell_type": "code",
   "execution_count": 7,
   "id": "f53dd081",
   "metadata": {},
   "outputs": [
    {
     "name": "stdout",
     "output_type": "stream",
     "text": [
      "datetime64[ns]\n"
     ]
    },
    {
     "data": {
      "text/plain": [
       "0   1979-01-01\n",
       "1   1979-01-02\n",
       "2   1979-01-03\n",
       "3   1979-01-04\n",
       "4   1979-01-05\n",
       "5   1979-01-06\n",
       "6   1979-01-07\n",
       "7   1979-01-08\n",
       "8   1979-01-09\n",
       "9   1979-01-10\n",
       "Name: format_date, dtype: datetime64[ns]"
      ]
     },
     "execution_count": 7,
     "metadata": {},
     "output_type": "execute_result"
    }
   ],
   "source": [
    "# Correcting the formatting because the hours, minutes, and seconds are not needed.\n",
    "df['format_date'] = pd.to_datetime(df['date'], format='%Y%m%d')\n",
    "\n",
    "print(df['format_date'].dtype)\n",
    "df['format_date'].head(10)"
   ]
  },
  {
   "cell_type": "code",
   "execution_count": 8,
   "id": "fc854371",
   "metadata": {},
   "outputs": [
    {
     "data": {
      "text/html": [
       "<div>\n",
       "<style scoped>\n",
       "    .dataframe tbody tr th:only-of-type {\n",
       "        vertical-align: middle;\n",
       "    }\n",
       "\n",
       "    .dataframe tbody tr th {\n",
       "        vertical-align: top;\n",
       "    }\n",
       "\n",
       "    .dataframe thead th {\n",
       "        text-align: right;\n",
       "    }\n",
       "</style>\n",
       "<table border=\"1\" class=\"dataframe\">\n",
       "  <thead>\n",
       "    <tr style=\"text-align: right;\">\n",
       "      <th></th>\n",
       "      <th>cloud_cover</th>\n",
       "      <th>sunshine</th>\n",
       "      <th>global_radiation</th>\n",
       "      <th>max_temp</th>\n",
       "      <th>mean_temp</th>\n",
       "      <th>min_temp</th>\n",
       "      <th>precipitation</th>\n",
       "      <th>pressure</th>\n",
       "      <th>snow_depth</th>\n",
       "      <th>format_data</th>\n",
       "      <th>date</th>\n",
       "    </tr>\n",
       "  </thead>\n",
       "  <tbody>\n",
       "    <tr>\n",
       "      <th>0</th>\n",
       "      <td>2.0</td>\n",
       "      <td>7.0</td>\n",
       "      <td>52.0</td>\n",
       "      <td>2.3</td>\n",
       "      <td>-4.1</td>\n",
       "      <td>-7.5</td>\n",
       "      <td>0.4</td>\n",
       "      <td>101900.0</td>\n",
       "      <td>9.0</td>\n",
       "      <td>1970-01-01 00:00:00.019790101</td>\n",
       "      <td>1979-01-01</td>\n",
       "    </tr>\n",
       "    <tr>\n",
       "      <th>1</th>\n",
       "      <td>6.0</td>\n",
       "      <td>1.7</td>\n",
       "      <td>27.0</td>\n",
       "      <td>1.6</td>\n",
       "      <td>-2.6</td>\n",
       "      <td>-7.5</td>\n",
       "      <td>0.0</td>\n",
       "      <td>102530.0</td>\n",
       "      <td>8.0</td>\n",
       "      <td>1970-01-01 00:00:00.019790102</td>\n",
       "      <td>1979-01-02</td>\n",
       "    </tr>\n",
       "    <tr>\n",
       "      <th>2</th>\n",
       "      <td>5.0</td>\n",
       "      <td>0.0</td>\n",
       "      <td>13.0</td>\n",
       "      <td>1.3</td>\n",
       "      <td>-2.8</td>\n",
       "      <td>-7.2</td>\n",
       "      <td>0.0</td>\n",
       "      <td>102050.0</td>\n",
       "      <td>4.0</td>\n",
       "      <td>1970-01-01 00:00:00.019790103</td>\n",
       "      <td>1979-01-03</td>\n",
       "    </tr>\n",
       "    <tr>\n",
       "      <th>3</th>\n",
       "      <td>8.0</td>\n",
       "      <td>0.0</td>\n",
       "      <td>13.0</td>\n",
       "      <td>-0.3</td>\n",
       "      <td>-2.6</td>\n",
       "      <td>-6.5</td>\n",
       "      <td>0.0</td>\n",
       "      <td>100840.0</td>\n",
       "      <td>2.0</td>\n",
       "      <td>1970-01-01 00:00:00.019790104</td>\n",
       "      <td>1979-01-04</td>\n",
       "    </tr>\n",
       "    <tr>\n",
       "      <th>4</th>\n",
       "      <td>6.0</td>\n",
       "      <td>2.0</td>\n",
       "      <td>29.0</td>\n",
       "      <td>5.6</td>\n",
       "      <td>-0.8</td>\n",
       "      <td>-1.4</td>\n",
       "      <td>0.0</td>\n",
       "      <td>102250.0</td>\n",
       "      <td>1.0</td>\n",
       "      <td>1970-01-01 00:00:00.019790105</td>\n",
       "      <td>1979-01-05</td>\n",
       "    </tr>\n",
       "  </tbody>\n",
       "</table>\n",
       "</div>"
      ],
      "text/plain": [
       "   cloud_cover  sunshine  global_radiation  max_temp  mean_temp  min_temp  \\\n",
       "0          2.0       7.0              52.0       2.3       -4.1      -7.5   \n",
       "1          6.0       1.7              27.0       1.6       -2.6      -7.5   \n",
       "2          5.0       0.0              13.0       1.3       -2.8      -7.2   \n",
       "3          8.0       0.0              13.0      -0.3       -2.6      -6.5   \n",
       "4          6.0       2.0              29.0       5.6       -0.8      -1.4   \n",
       "\n",
       "   precipitation  pressure  snow_depth                   format_data  \\\n",
       "0            0.4  101900.0         9.0 1970-01-01 00:00:00.019790101   \n",
       "1            0.0  102530.0         8.0 1970-01-01 00:00:00.019790102   \n",
       "2            0.0  102050.0         4.0 1970-01-01 00:00:00.019790103   \n",
       "3            0.0  100840.0         2.0 1970-01-01 00:00:00.019790104   \n",
       "4            0.0  102250.0         1.0 1970-01-01 00:00:00.019790105   \n",
       "\n",
       "        date  \n",
       "0 1979-01-01  \n",
       "1 1979-01-02  \n",
       "2 1979-01-03  \n",
       "3 1979-01-04  \n",
       "4 1979-01-05  "
      ]
     },
     "execution_count": 8,
     "metadata": {},
     "output_type": "execute_result"
    }
   ],
   "source": [
    "# Renaming the column\n",
    "df.drop(columns = 'date', inplace = True)\n",
    "df.rename(columns={'format_date':'date'}, inplace=True)\n",
    "df.head()"
   ]
  },
  {
   "cell_type": "markdown",
   "id": "a1f6e7e6",
   "metadata": {},
   "source": [
    "## Set the date column as the index."
   ]
  },
  {
   "cell_type": "code",
   "execution_count": 9,
   "id": "d6c25e39",
   "metadata": {},
   "outputs": [
    {
     "name": "stdout",
     "output_type": "stream",
     "text": [
      "<class 'pandas.core.frame.DataFrame'>\n",
      "DatetimeIndex: 15341 entries, 1979-01-01 to 2020-12-31\n",
      "Data columns (total 10 columns):\n",
      " #   Column            Non-Null Count  Dtype         \n",
      "---  ------            --------------  -----         \n",
      " 0   cloud_cover       14938 non-null  float64       \n",
      " 1   sunshine          14957 non-null  float64       \n",
      " 2   global_radiation  14939 non-null  float64       \n",
      " 3   max_temp          14951 non-null  float64       \n",
      " 4   mean_temp         14922 non-null  float64       \n",
      " 5   min_temp          14955 non-null  float64       \n",
      " 6   precipitation     14951 non-null  float64       \n",
      " 7   pressure          14953 non-null  float64       \n",
      " 8   snow_depth        13589 non-null  float64       \n",
      " 9   format_data       15341 non-null  datetime64[ns]\n",
      "dtypes: datetime64[ns](1), float64(9)\n",
      "memory usage: 1.3 MB\n"
     ]
    }
   ],
   "source": [
    "df = df.set_index('date')\n",
    "df.info()"
   ]
  },
  {
   "cell_type": "markdown",
   "id": "a46bba17",
   "metadata": {},
   "source": [
    "## Filter out only the required data:\n",
    "\n",
    "## Only need the data from the year 2000 or later."
   ]
  },
  {
   "cell_type": "code",
   "execution_count": 10,
   "id": "923133a3",
   "metadata": {},
   "outputs": [
    {
     "data": {
      "text/html": [
       "<div>\n",
       "<style scoped>\n",
       "    .dataframe tbody tr th:only-of-type {\n",
       "        vertical-align: middle;\n",
       "    }\n",
       "\n",
       "    .dataframe tbody tr th {\n",
       "        vertical-align: top;\n",
       "    }\n",
       "\n",
       "    .dataframe thead th {\n",
       "        text-align: right;\n",
       "    }\n",
       "</style>\n",
       "<table border=\"1\" class=\"dataframe\">\n",
       "  <thead>\n",
       "    <tr style=\"text-align: right;\">\n",
       "      <th></th>\n",
       "      <th>cloud_cover</th>\n",
       "      <th>sunshine</th>\n",
       "      <th>global_radiation</th>\n",
       "      <th>max_temp</th>\n",
       "      <th>mean_temp</th>\n",
       "      <th>min_temp</th>\n",
       "      <th>precipitation</th>\n",
       "      <th>pressure</th>\n",
       "      <th>snow_depth</th>\n",
       "      <th>format_data</th>\n",
       "    </tr>\n",
       "    <tr>\n",
       "      <th>date</th>\n",
       "      <th></th>\n",
       "      <th></th>\n",
       "      <th></th>\n",
       "      <th></th>\n",
       "      <th></th>\n",
       "      <th></th>\n",
       "      <th></th>\n",
       "      <th></th>\n",
       "      <th></th>\n",
       "      <th></th>\n",
       "    </tr>\n",
       "  </thead>\n",
       "  <tbody>\n",
       "    <tr>\n",
       "      <th>2000-01-01</th>\n",
       "      <td>7.0</td>\n",
       "      <td>0.4</td>\n",
       "      <td>18.0</td>\n",
       "      <td>10.8</td>\n",
       "      <td>7.0</td>\n",
       "      <td>4.9</td>\n",
       "      <td>0.0</td>\n",
       "      <td>102450.0</td>\n",
       "      <td>0.0</td>\n",
       "      <td>1970-01-01 00:00:00.020000101</td>\n",
       "    </tr>\n",
       "    <tr>\n",
       "      <th>2000-01-02</th>\n",
       "      <td>7.0</td>\n",
       "      <td>0.7</td>\n",
       "      <td>20.0</td>\n",
       "      <td>11.5</td>\n",
       "      <td>7.9</td>\n",
       "      <td>5.0</td>\n",
       "      <td>0.2</td>\n",
       "      <td>102530.0</td>\n",
       "      <td>0.0</td>\n",
       "      <td>1970-01-01 00:00:00.020000102</td>\n",
       "    </tr>\n",
       "    <tr>\n",
       "      <th>2000-01-03</th>\n",
       "      <td>8.0</td>\n",
       "      <td>0.0</td>\n",
       "      <td>13.0</td>\n",
       "      <td>9.5</td>\n",
       "      <td>9.4</td>\n",
       "      <td>7.2</td>\n",
       "      <td>6.0</td>\n",
       "      <td>101860.0</td>\n",
       "      <td>0.0</td>\n",
       "      <td>1970-01-01 00:00:00.020000103</td>\n",
       "    </tr>\n",
       "    <tr>\n",
       "      <th>2000-01-04</th>\n",
       "      <td>5.0</td>\n",
       "      <td>2.9</td>\n",
       "      <td>34.0</td>\n",
       "      <td>11.0</td>\n",
       "      <td>7.0</td>\n",
       "      <td>4.4</td>\n",
       "      <td>0.2</td>\n",
       "      <td>101480.0</td>\n",
       "      <td>0.0</td>\n",
       "      <td>1970-01-01 00:00:00.020000104</td>\n",
       "    </tr>\n",
       "    <tr>\n",
       "      <th>2000-01-05</th>\n",
       "      <td>5.0</td>\n",
       "      <td>1.3</td>\n",
       "      <td>25.0</td>\n",
       "      <td>10.8</td>\n",
       "      <td>6.4</td>\n",
       "      <td>1.9</td>\n",
       "      <td>0.8</td>\n",
       "      <td>101420.0</td>\n",
       "      <td>0.0</td>\n",
       "      <td>1970-01-01 00:00:00.020000105</td>\n",
       "    </tr>\n",
       "    <tr>\n",
       "      <th>...</th>\n",
       "      <td>...</td>\n",
       "      <td>...</td>\n",
       "      <td>...</td>\n",
       "      <td>...</td>\n",
       "      <td>...</td>\n",
       "      <td>...</td>\n",
       "      <td>...</td>\n",
       "      <td>...</td>\n",
       "      <td>...</td>\n",
       "      <td>...</td>\n",
       "    </tr>\n",
       "    <tr>\n",
       "      <th>2020-12-27</th>\n",
       "      <td>1.0</td>\n",
       "      <td>0.9</td>\n",
       "      <td>32.0</td>\n",
       "      <td>7.5</td>\n",
       "      <td>7.5</td>\n",
       "      <td>7.6</td>\n",
       "      <td>2.0</td>\n",
       "      <td>98000.0</td>\n",
       "      <td>NaN</td>\n",
       "      <td>1970-01-01 00:00:00.020201227</td>\n",
       "    </tr>\n",
       "    <tr>\n",
       "      <th>2020-12-28</th>\n",
       "      <td>7.0</td>\n",
       "      <td>3.7</td>\n",
       "      <td>38.0</td>\n",
       "      <td>3.6</td>\n",
       "      <td>1.1</td>\n",
       "      <td>-1.3</td>\n",
       "      <td>0.2</td>\n",
       "      <td>97370.0</td>\n",
       "      <td>NaN</td>\n",
       "      <td>1970-01-01 00:00:00.020201228</td>\n",
       "    </tr>\n",
       "    <tr>\n",
       "      <th>2020-12-29</th>\n",
       "      <td>7.0</td>\n",
       "      <td>0.0</td>\n",
       "      <td>21.0</td>\n",
       "      <td>4.1</td>\n",
       "      <td>2.6</td>\n",
       "      <td>1.1</td>\n",
       "      <td>0.0</td>\n",
       "      <td>98830.0</td>\n",
       "      <td>NaN</td>\n",
       "      <td>1970-01-01 00:00:00.020201229</td>\n",
       "    </tr>\n",
       "    <tr>\n",
       "      <th>2020-12-30</th>\n",
       "      <td>6.0</td>\n",
       "      <td>0.4</td>\n",
       "      <td>22.0</td>\n",
       "      <td>5.6</td>\n",
       "      <td>2.7</td>\n",
       "      <td>-0.1</td>\n",
       "      <td>0.0</td>\n",
       "      <td>100200.0</td>\n",
       "      <td>NaN</td>\n",
       "      <td>1970-01-01 00:00:00.020201230</td>\n",
       "    </tr>\n",
       "    <tr>\n",
       "      <th>2020-12-31</th>\n",
       "      <td>7.0</td>\n",
       "      <td>1.3</td>\n",
       "      <td>34.0</td>\n",
       "      <td>1.5</td>\n",
       "      <td>-0.8</td>\n",
       "      <td>-3.1</td>\n",
       "      <td>0.0</td>\n",
       "      <td>100500.0</td>\n",
       "      <td>NaN</td>\n",
       "      <td>1970-01-01 00:00:00.020201231</td>\n",
       "    </tr>\n",
       "  </tbody>\n",
       "</table>\n",
       "<p>7671 rows × 10 columns</p>\n",
       "</div>"
      ],
      "text/plain": [
       "            cloud_cover  sunshine  global_radiation  max_temp  mean_temp  \\\n",
       "date                                                                       \n",
       "2000-01-01          7.0       0.4              18.0      10.8        7.0   \n",
       "2000-01-02          7.0       0.7              20.0      11.5        7.9   \n",
       "2000-01-03          8.0       0.0              13.0       9.5        9.4   \n",
       "2000-01-04          5.0       2.9              34.0      11.0        7.0   \n",
       "2000-01-05          5.0       1.3              25.0      10.8        6.4   \n",
       "...                 ...       ...               ...       ...        ...   \n",
       "2020-12-27          1.0       0.9              32.0       7.5        7.5   \n",
       "2020-12-28          7.0       3.7              38.0       3.6        1.1   \n",
       "2020-12-29          7.0       0.0              21.0       4.1        2.6   \n",
       "2020-12-30          6.0       0.4              22.0       5.6        2.7   \n",
       "2020-12-31          7.0       1.3              34.0       1.5       -0.8   \n",
       "\n",
       "            min_temp  precipitation  pressure  snow_depth  \\\n",
       "date                                                        \n",
       "2000-01-01       4.9            0.0  102450.0         0.0   \n",
       "2000-01-02       5.0            0.2  102530.0         0.0   \n",
       "2000-01-03       7.2            6.0  101860.0         0.0   \n",
       "2000-01-04       4.4            0.2  101480.0         0.0   \n",
       "2000-01-05       1.9            0.8  101420.0         0.0   \n",
       "...              ...            ...       ...         ...   \n",
       "2020-12-27       7.6            2.0   98000.0         NaN   \n",
       "2020-12-28      -1.3            0.2   97370.0         NaN   \n",
       "2020-12-29       1.1            0.0   98830.0         NaN   \n",
       "2020-12-30      -0.1            0.0  100200.0         NaN   \n",
       "2020-12-31      -3.1            0.0  100500.0         NaN   \n",
       "\n",
       "                             format_data  \n",
       "date                                      \n",
       "2000-01-01 1970-01-01 00:00:00.020000101  \n",
       "2000-01-02 1970-01-01 00:00:00.020000102  \n",
       "2000-01-03 1970-01-01 00:00:00.020000103  \n",
       "2000-01-04 1970-01-01 00:00:00.020000104  \n",
       "2000-01-05 1970-01-01 00:00:00.020000105  \n",
       "...                                  ...  \n",
       "2020-12-27 1970-01-01 00:00:00.020201227  \n",
       "2020-12-28 1970-01-01 00:00:00.020201228  \n",
       "2020-12-29 1970-01-01 00:00:00.020201229  \n",
       "2020-12-30 1970-01-01 00:00:00.020201230  \n",
       "2020-12-31 1970-01-01 00:00:00.020201231  \n",
       "\n",
       "[7671 rows x 10 columns]"
      ]
     },
     "execution_count": 10,
     "metadata": {},
     "output_type": "execute_result"
    }
   ],
   "source": [
    "df = df.loc['2000':]\n",
    "df"
   ]
  },
  {
   "cell_type": "markdown",
   "id": "b69cd001",
   "metadata": {},
   "source": [
    "## Keep the following features:\n",
    "\n",
    "precipitation\n",
    "\n",
    "mean_temp\n",
    "\n",
    "min_temp\n",
    "\n",
    "max_temp\n",
    "\n",
    "snow_depth\n"
   ]
  },
  {
   "cell_type": "code",
   "execution_count": 11,
   "id": "d65771bb",
   "metadata": {},
   "outputs": [
    {
     "name": "stdout",
     "output_type": "stream",
     "text": [
      "<class 'pandas.core.frame.DataFrame'>\n",
      "DatetimeIndex: 7671 entries, 2000-01-01 to 2020-12-31\n",
      "Data columns (total 5 columns):\n",
      " #   Column         Non-Null Count  Dtype  \n",
      "---  ------         --------------  -----  \n",
      " 0   precipitation  7281 non-null   float64\n",
      " 1   mean_temp      7252 non-null   float64\n",
      " 2   min_temp       7285 non-null   float64\n",
      " 3   max_temp       7281 non-null   float64\n",
      " 4   snow_depth     5919 non-null   float64\n",
      "dtypes: float64(5)\n",
      "memory usage: 359.6 KB\n"
     ]
    }
   ],
   "source": [
    "keep_those = ['precipitation', 'mean_temp', 'min_temp', 'max_temp', 'snow_depth']\n",
    "df = df[keep_those]\n",
    "df.info()"
   ]
  },
  {
   "cell_type": "code",
   "execution_count": 12,
   "id": "79886857",
   "metadata": {},
   "outputs": [
    {
     "data": {
      "text/html": [
       "<div>\n",
       "<style scoped>\n",
       "    .dataframe tbody tr th:only-of-type {\n",
       "        vertical-align: middle;\n",
       "    }\n",
       "\n",
       "    .dataframe tbody tr th {\n",
       "        vertical-align: top;\n",
       "    }\n",
       "\n",
       "    .dataframe thead th {\n",
       "        text-align: right;\n",
       "    }\n",
       "</style>\n",
       "<table border=\"1\" class=\"dataframe\">\n",
       "  <thead>\n",
       "    <tr style=\"text-align: right;\">\n",
       "      <th></th>\n",
       "      <th>precipitation</th>\n",
       "      <th>mean_temp</th>\n",
       "      <th>min_temp</th>\n",
       "      <th>max_temp</th>\n",
       "      <th>snow_depth</th>\n",
       "    </tr>\n",
       "    <tr>\n",
       "      <th>date</th>\n",
       "      <th></th>\n",
       "      <th></th>\n",
       "      <th></th>\n",
       "      <th></th>\n",
       "      <th></th>\n",
       "    </tr>\n",
       "  </thead>\n",
       "  <tbody>\n",
       "    <tr>\n",
       "      <th>2000-01-01</th>\n",
       "      <td>0.0</td>\n",
       "      <td>7.0</td>\n",
       "      <td>4.9</td>\n",
       "      <td>10.8</td>\n",
       "      <td>0.0</td>\n",
       "    </tr>\n",
       "    <tr>\n",
       "      <th>2000-01-02</th>\n",
       "      <td>0.2</td>\n",
       "      <td>7.9</td>\n",
       "      <td>5.0</td>\n",
       "      <td>11.5</td>\n",
       "      <td>0.0</td>\n",
       "    </tr>\n",
       "    <tr>\n",
       "      <th>2000-01-03</th>\n",
       "      <td>6.0</td>\n",
       "      <td>9.4</td>\n",
       "      <td>7.2</td>\n",
       "      <td>9.5</td>\n",
       "      <td>0.0</td>\n",
       "    </tr>\n",
       "    <tr>\n",
       "      <th>2000-01-04</th>\n",
       "      <td>0.2</td>\n",
       "      <td>7.0</td>\n",
       "      <td>4.4</td>\n",
       "      <td>11.0</td>\n",
       "      <td>0.0</td>\n",
       "    </tr>\n",
       "    <tr>\n",
       "      <th>2000-01-05</th>\n",
       "      <td>0.8</td>\n",
       "      <td>6.4</td>\n",
       "      <td>1.9</td>\n",
       "      <td>10.8</td>\n",
       "      <td>0.0</td>\n",
       "    </tr>\n",
       "  </tbody>\n",
       "</table>\n",
       "</div>"
      ],
      "text/plain": [
       "            precipitation  mean_temp  min_temp  max_temp  snow_depth\n",
       "date                                                                \n",
       "2000-01-01            0.0        7.0       4.9      10.8         0.0\n",
       "2000-01-02            0.2        7.9       5.0      11.5         0.0\n",
       "2000-01-03            6.0        9.4       7.2       9.5         0.0\n",
       "2000-01-04            0.2        7.0       4.4      11.0         0.0\n",
       "2000-01-05            0.8        6.4       1.9      10.8         0.0"
      ]
     },
     "execution_count": 12,
     "metadata": {},
     "output_type": "execute_result"
    }
   ],
   "source": [
    "df.head()"
   ]
  },
  {
   "cell_type": "markdown",
   "id": "88ad5436",
   "metadata": {},
   "source": [
    "## Impute any missing values."
   ]
  },
  {
   "cell_type": "code",
   "execution_count": 13,
   "id": "0f11fba8",
   "metadata": {},
   "outputs": [
    {
     "data": {
      "text/plain": [
       "precipitation     390\n",
       "mean_temp         419\n",
       "min_temp          386\n",
       "max_temp          390\n",
       "snow_depth       1752\n",
       "dtype: int64"
      ]
     },
     "execution_count": 13,
     "metadata": {},
     "output_type": "execute_result"
    }
   ],
   "source": [
    "# Missing value count\n",
    "df.isna().sum()"
   ]
  },
  {
   "cell_type": "code",
   "execution_count": 14,
   "id": "da8f7cbe",
   "metadata": {},
   "outputs": [],
   "source": [
    "for col in df:\n",
    "    df[col] = df[col].interpolate()"
   ]
  },
  {
   "cell_type": "code",
   "execution_count": 15,
   "id": "d678aab5",
   "metadata": {},
   "outputs": [
    {
     "data": {
      "text/plain": [
       "precipitation    0\n",
       "mean_temp        0\n",
       "min_temp         0\n",
       "max_temp         0\n",
       "snow_depth       0\n",
       "dtype: int64"
      ]
     },
     "execution_count": 15,
     "metadata": {},
     "output_type": "execute_result"
    }
   ],
   "source": [
    "df.isna().sum()"
   ]
  },
  {
   "cell_type": "markdown",
   "id": "3be2317a",
   "metadata": {},
   "source": [
    "# Part 2: Answer 2 Questions using visualizations and the correct frequency data"
   ]
  },
  {
   "cell_type": "markdown",
   "id": "b3c8037d",
   "metadata": {},
   "source": [
    "# Q1: What month had the Most Precipitation from 2000 - 2010?"
   ]
  },
  {
   "cell_type": "code",
   "execution_count": 16,
   "id": "4cd88d5d",
   "metadata": {},
   "outputs": [
    {
     "data": {
      "text/plain": [
       "date\n",
       "2000-01-01    0.0\n",
       "2000-01-02    0.2\n",
       "2000-01-03    6.0\n",
       "2000-01-04    0.2\n",
       "2000-01-05    0.8\n",
       "Name: precipitation, dtype: float64"
      ]
     },
     "execution_count": 16,
     "metadata": {},
     "output_type": "execute_result"
    }
   ],
   "source": [
    "# Filtering df_Q1 for an appropriate column\n",
    "df_Q1 = df['precipitation'].copy()\n",
    "df_Q1.head()"
   ]
  },
  {
   "cell_type": "code",
   "execution_count": 17,
   "id": "1e030ec6",
   "metadata": {},
   "outputs": [
    {
     "data": {
      "text/plain": [
       "date\n",
       "2000-01-01    0.0\n",
       "2000-01-02    0.2\n",
       "2000-01-03    6.0\n",
       "2000-01-04    0.2\n",
       "2000-01-05    0.8\n",
       "             ... \n",
       "2010-12-27    5.0\n",
       "2010-12-28    0.4\n",
       "2010-12-29    1.4\n",
       "2010-12-30    0.0\n",
       "2010-12-31    0.0\n",
       "Name: precipitation, Length: 4018, dtype: float64"
      ]
     },
     "execution_count": 17,
     "metadata": {},
     "output_type": "execute_result"
    }
   ],
   "source": [
    "# Setting range of years from 2000-2010\n",
    "df_Q1 = df_Q1.loc['2000':'2010']\n",
    "df_Q1"
   ]
  },
  {
   "cell_type": "code",
   "execution_count": 18,
   "id": "4775cb8e",
   "metadata": {},
   "outputs": [
    {
     "data": {
      "text/plain": [
       "date\n",
       "2000-01-01    0.467742\n",
       "2000-02-01    2.234483\n",
       "2000-03-01    0.448387\n",
       "2000-04-01    2.750000\n",
       "2000-05-01    2.516129\n",
       "                ...   \n",
       "2010-08-01    2.980645\n",
       "2010-09-01    1.486667\n",
       "2010-10-01    2.035484\n",
       "2010-11-01    1.066667\n",
       "2010-12-01    0.687097\n",
       "Freq: MS, Name: precipitation, Length: 132, dtype: float64"
      ]
     },
     "execution_count": 18,
     "metadata": {},
     "output_type": "execute_result"
    }
   ],
   "source": [
    "# Resampling with monthly frequency; taking the mean of month\n",
    "df_Q1 = df_Q1.resample(\"MS\").mean()\n",
    "\n",
    "# check\n",
    "df_Q1"
   ]
  },
  {
   "cell_type": "code",
   "execution_count": 19,
   "id": "e1e6be04",
   "metadata": {},
   "outputs": [
    {
     "name": "stdout",
     "output_type": "stream",
     "text": [
      "2000-10-01 00:00:00\n"
     ]
    },
    {
     "data": {
      "text/plain": [
       "4.925806451612903"
      ]
     },
     "execution_count": 19,
     "metadata": {},
     "output_type": "execute_result"
    }
   ],
   "source": [
    "# Finding the date of Max Value\n",
    "max_precip_date = df_Q1.idxmax()\n",
    "\n",
    "# check\n",
    "print(max_precip_date)\n",
    "\n",
    "df_Q1.loc[max_precip_date]"
   ]
  },
  {
   "cell_type": "markdown",
   "id": "d4f5edf8",
   "metadata": {},
   "source": [
    "# Plot Results for the Month of August between the years of 2000 to 2010.\n",
    "\n",
    "The years that had the most amount of rain were 2001, 2003. and 2010."
   ]
  },
  {
   "cell_type": "code",
   "execution_count": 20,
   "id": "b2a36013",
   "metadata": {},
   "outputs": [
    {
     "data": {
      "image/png": "[encoded data removed]",
      "text/plain": [
       "<Figure size 1200x300 with 1 Axes>"
      ]
     },
     "metadata": {},
     "output_type": "display_data"
    }
   ],
   "source": [
    "# Plotting the dataset.\n",
    "\n",
    "fig, ax = plt.subplots(figsize = (12, 3))\n",
    "\n",
    "\n",
    "df_Q1.plot(ax = ax)\n",
    "\n",
    "\n",
    "fig.autofmt_xdate(which = 'major', rotation = 45)\n",
    "\n",
    "ax.set_title('Avg. Monthly Precipitation, 2000-2010', fontsize = 15)\n",
    "ax.set_ylabel('Inches')\n",
    "ax.set_xlabel('Date')\n",
    "   \n",
    "    \n",
    "ax.axvline(x = max_precip_date, color = 'r', linestyle = '--',\n",
    "          label = f'Max Precip, {max_precip_date:%B %Y}')\n",
    "\n",
    "\n",
    "handles, labels = ax.get_legend_handles_labels()\n",
    "labels = [label.title() for label in labels]\n",
    "\n",
    "\n",
    "ax.legend(handles,\n",
    "          labels,\n",
    "          loc = 'best');"
   ]
  },
  {
   "cell_type": "markdown",
   "id": "bcc79d4f",
   "metadata": {},
   "source": [
    "# Q2: Year with the Coldest Avg Temp from 2000 - 2020?\n",
    "\n"
   ]
  },
  {
   "cell_type": "code",
   "execution_count": 21,
   "id": "acd5f09c",
   "metadata": {},
   "outputs": [
    {
     "data": {
      "text/plain": [
       "date\n",
       "2000-01-01    7.0\n",
       "2000-01-02    7.9\n",
       "2000-01-03    9.4\n",
       "2000-01-04    7.0\n",
       "2000-01-05    6.4\n",
       "Name: mean_temp, dtype: float64"
      ]
     },
     "execution_count": 21,
     "metadata": {},
     "output_type": "execute_result"
    }
   ],
   "source": [
    "# Filtering df_Q2 for the appropriate column\n",
    "df_Q2 = df['mean_temp'].copy()\n",
    "df_Q2.head()"
   ]
  },
  {
   "cell_type": "code",
   "execution_count": 22,
   "id": "cb3aabb4",
   "metadata": {},
   "outputs": [
    {
     "data": {
      "text/plain": [
       "date\n",
       "2000-01-01    11.575683\n",
       "2001-01-01    11.331507\n",
       "2002-01-01    12.084247\n",
       "2003-01-01    12.114521\n",
       "2004-01-01    11.900683\n",
       "2005-01-01    11.822877\n",
       "2006-01-01    12.290822\n",
       "2007-01-01    11.944384\n",
       "2008-01-01    11.326776\n",
       "2009-01-01    11.721644\n",
       "2010-01-01    10.657397\n",
       "2011-01-01    12.366438\n",
       "2012-01-01    11.300956\n",
       "2013-01-01    11.166301\n",
       "2014-01-01    12.658904\n",
       "2015-01-01    12.123699\n",
       "2016-01-01    11.906284\n",
       "2017-01-01    12.242466\n",
       "2018-01-01    12.501370\n",
       "2019-01-01    12.206164\n",
       "2020-01-01    12.723634\n",
       "Freq: AS-JAN, Name: mean_temp, dtype: float64"
      ]
     },
     "execution_count": 22,
     "metadata": {},
     "output_type": "execute_result"
    }
   ],
   "source": [
    "# Resampling with the monthly frequency; taking the mean of month\n",
    "df_Q2 = df_Q2.resample(\"AS\").mean()\n",
    "\n",
    "# check\n",
    "df_Q2"
   ]
  },
  {
   "cell_type": "code",
   "execution_count": 23,
   "id": "b32a1a0e",
   "metadata": {},
   "outputs": [
    {
     "data": {
      "text/plain": [
       "date\n",
       "2000-01-01    11.575683\n",
       "2001-01-01    11.331507\n",
       "2002-01-01    12.084247\n",
       "2003-01-01    12.114521\n",
       "2004-01-01    11.900683\n",
       "2005-01-01    11.822877\n",
       "2006-01-01    12.290822\n",
       "2007-01-01    11.944384\n",
       "2008-01-01    11.326776\n",
       "2009-01-01    11.721644\n",
       "2010-01-01    10.657397\n",
       "2011-01-01    12.366438\n",
       "2012-01-01    11.300956\n",
       "2013-01-01    11.166301\n",
       "2014-01-01    12.658904\n",
       "2015-01-01    12.123699\n",
       "2016-01-01    11.906284\n",
       "2017-01-01    12.242466\n",
       "2018-01-01    12.501370\n",
       "2019-01-01    12.206164\n",
       "2020-01-01    12.723634\n",
       "Freq: AS-JAN, Name: mean_temp, dtype: float64"
      ]
     },
     "execution_count": 23,
     "metadata": {},
     "output_type": "execute_result"
    }
   ],
   "source": [
    "# Setting the range of years from 2000-2020\n",
    "df_Q2 = df_Q2.loc['2000':'2020']\n",
    "df_Q2"
   ]
  },
  {
   "cell_type": "code",
   "execution_count": 24,
   "id": "91e336d3",
   "metadata": {},
   "outputs": [
    {
     "name": "stdout",
     "output_type": "stream",
     "text": [
      "2010-01-01 00:00:00\n"
     ]
    },
    {
     "data": {
      "text/plain": [
       "10.657397260273973"
      ]
     },
     "execution_count": 24,
     "metadata": {},
     "output_type": "execute_result"
    }
   ],
   "source": [
    "# Finding the  Date of Max Value\n",
    "min_temp = df_Q2.idxmin()\n",
    "\n",
    "# check\n",
    "print(min_temp)\n",
    "\n",
    "df_Q2.loc[min_temp]"
   ]
  },
  {
   "cell_type": "markdown",
   "id": "504f1735",
   "metadata": {},
   "source": [
    "## The year with the coldest average temperature was 2010."
   ]
  }
 ],
 "metadata": {
  "kernelspec": {
   "display_name": "Python (dojo-env)",
   "language": "python",
   "name": "dojo-env"
  },
  "language_info": {
   "codemirror_mode": {
    "name": "ipython",
    "version": 3
   },
   "file_extension": ".py",
   "mimetype": "text/x-python",
   "name": "python",
   "nbconvert_exporter": "python",
   "pygments_lexer": "ipython3",
   "version": "3.9.15"
  },
  "toc": {
   "base_numbering": 1,
   "nav_menu": {},
   "number_sections": true,
   "sideBar": true,
   "skip_h1_title": false,
   "title_cell": "Table of Contents",
   "title_sidebar": "Contents",
   "toc_cell": false,
   "toc_position": {},
   "toc_section_display": true,
   "toc_window_display": false
  }
 },
 "nbformat": 4,
 "nbformat_minor": 5
}
